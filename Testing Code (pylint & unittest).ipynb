{
 "cells": [
  {
   "cell_type": "code",
   "execution_count": null,
   "metadata": {},
   "outputs": [],
   "source": [
    "import pylint as pl"
   ]
  },
  {
   "cell_type": "code",
   "execution_count": null,
   "metadata": {},
   "outputs": [],
   "source": [
    "pl.run_pylint"
   ]
  },
  {
   "cell_type": "markdown",
   "metadata": {},
   "source": [
    "#### Контролер ошибок кода pylint (pyflakes)"
   ]
  },
  {
   "cell_type": "code",
   "execution_count": 16,
   "metadata": {},
   "outputs": [
    {
     "name": "stdout",
     "output_type": "stream",
     "text": [
      "Writing C:\\Users\\MediaStation\\Desktop\\test.py\n"
     ]
    }
   ],
   "source": [
    "%%writefile \"C:\\Users\\MediaStation\\Desktop\\test.py\"\n",
    "a = 1\n",
    "b = 2\n",
    "c = 3\n",
    "print(a)\n",
    "print(b)\n",
    "print(c)"
   ]
  },
  {
   "cell_type": "code",
   "execution_count": 17,
   "metadata": {},
   "outputs": [
    {
     "name": "stdout",
     "output_type": "stream",
     "text": [
      "************* Module test\n",
      "C:  6, 0: Final newline missing (missing-final-newline)\n",
      "C:  1, 0: Missing module docstring (missing-docstring)\n",
      "C:  1, 0: Constant name \"a\" doesn't conform to UPPER_CASE naming style (invalid-name)\n",
      "C:  2, 0: Constant name \"b\" doesn't conform to UPPER_CASE naming style (invalid-name)\n",
      "C:  3, 0: Constant name \"c\" doesn't conform to UPPER_CASE naming style (invalid-name)\n",
      "\n",
      "------------------------------------------------------------------\n",
      "\n",
      "Your code has been rated at 1.67/10 (previous run: 1.67/10, +0.00)\n",
      "\n",
      "\n",
      "\n"
     ]
    },
    {
     "name": "stderr",
     "output_type": "stream",
     "text": [
      "No config file found, using default configuration\n"
     ]
    }
   ],
   "source": [
    "!pylint \"C:\\Users\\MediaStation\\Desktop\\test.py\""
   ]
  },
  {
   "cell_type": "code",
   "execution_count": null,
   "metadata": {},
   "outputs": [],
   "source": [
    "!pip install pep8"
   ]
  },
  {
   "cell_type": "markdown",
   "metadata": {},
   "source": [
    "#### Контролер стиля PEP-8"
   ]
  },
  {
   "cell_type": "code",
   "execution_count": null,
   "metadata": {},
   "outputs": [],
   "source": [
    "!pep8 \"C:\\Users\\MediaStation\\Desktop\\test.py\""
   ]
  },
  {
   "cell_type": "code",
   "execution_count": null,
   "metadata": {},
   "outputs": [],
   "source": [
    "!pip install pycodestyle"
   ]
  },
  {
   "cell_type": "code",
   "execution_count": null,
   "metadata": {},
   "outputs": [],
   "source": [
    "!pycodestyle \"C:\\Users\\MediaStation\\Desktop\\test.py\""
   ]
  },
  {
   "cell_type": "markdown",
   "metadata": {},
   "source": [
    "# Тестирование с помощью встроенного пакета unittest"
   ]
  },
  {
   "cell_type": "markdown",
   "metadata": {},
   "source": [
    "Пакет unittest (через написание тест-класса)"
   ]
  },
  {
   "cell_type": "code",
   "execution_count": null,
   "metadata": {},
   "outputs": [],
   "source": [
    "%%writefile \"C:\\Users\\MediaStation\\Desktop\\cap.py\"\n",
    "def just_do_it(text):\n",
    "    return text.capitalize()"
   ]
  },
  {
   "cell_type": "code",
   "execution_count": null,
   "metadata": {},
   "outputs": [],
   "source": [
    "%%writefile \"C:\\Users\\MediaStation\\Desktop\\test_cap.py\"\n",
    "import unittest\n",
    "import cap\n",
    "class TestCap(unittest.TestCase):\n",
    "    def setUp(self):\n",
    "        pass\n",
    "    def tearDown(self):\n",
    "        pass\n",
    "    def test_one_word(self):\n",
    "        text = 'duck'\n",
    "        result = cap.just_do_it(text)\n",
    "        self.assertEqual(result, 'Duck')\n",
    "    def test_multiple_words(self):\n",
    "        text = 'a veritable flock of ducks'\n",
    "        result = cap.just_do_it(text)\n",
    "        self.assertEqual(result, 'A Veritable Flock Of Ducks')\n",
    "if __name__ == '__main__':\n",
    "    unittest.main()\n",
    "            "
   ]
  },
  {
   "cell_type": "code",
   "execution_count": null,
   "metadata": {
    "scrolled": true
   },
   "outputs": [],
   "source": [
    "!python \"C:\\Users\\MediaStation\\Desktop\\test_cap.py\""
   ]
  },
  {
   "cell_type": "markdown",
   "metadata": {},
   "source": [
    "__________\n",
    "Пакет doctest (тесты располагаются внутри строки документации, которые сами будут служить документацией)"
   ]
  },
  {
   "cell_type": "code",
   "execution_count": 41,
   "metadata": {},
   "outputs": [
    {
     "name": "stdout",
     "output_type": "stream",
     "text": [
      "Writing C:\\Users\\MediaStation\\Desktop\\cap.py\n"
     ]
    }
   ],
   "source": [
    "%%writefile \"C:\\Users\\MediaStation\\Desktop\\cap.py\"\n",
    "def just_do_it(text):\n",
    "    \"\"\"\n",
    "    >>> just_do_it('duck')\n",
    "    'Duck'\n",
    "    >>> just_do_it('a veritable flock of ducks')\n",
    "    'A Veritable Flock Of Ducks'\n",
    "    >>> just_do_it(\"I'm fresh out of ideas\")\n",
    "    \"I'm Fresh Out Of Ideas\"\n",
    "    \"\"\"\n",
    "    from string import capwords\n",
    "    return capwords(text)\n",
    "if __name__ == '__main__':\n",
    "    import doctest\n",
    "    doctest.testmod()"
   ]
  },
  {
   "cell_type": "code",
   "execution_count": 42,
   "metadata": {},
   "outputs": [
    {
     "name": "stdout",
     "output_type": "stream",
     "text": [
      "Trying:\n",
      "    just_do_it('duck')\n",
      "Expecting:\n",
      "    'Duck'\n",
      "ok\n",
      "Trying:\n",
      "    just_do_it('a veritable flock of ducks')\n",
      "Expecting:\n",
      "    'A Veritable Flock Of Ducks'\n",
      "ok\n",
      "Trying:\n",
      "    just_do_it(\"I'm fresh out of ideas\")\n",
      "Expecting:\n",
      "    \"I'm Fresh Out Of Ideas\"\n",
      "ok\n",
      "1 items had no tests:\n",
      "    __main__\n",
      "1 items passed all tests:\n",
      "   3 tests in __main__.just_do_it\n",
      "3 tests in 2 items.\n",
      "3 passed and 0 failed.\n",
      "Test passed.\n"
     ]
    }
   ],
   "source": [
    "!python \"C:\\Users\\MediaStation\\Desktop\\cap.py\" -v"
   ]
  },
  {
   "cell_type": "markdown",
   "metadata": {},
   "source": [
    "## Отлаживаем свой код"
   ]
  },
  {
   "cell_type": "code",
   "execution_count": null,
   "metadata": {},
   "outputs": [],
   "source": [
    "def func(*args, **kwards):\n",
    "    print(vars())"
   ]
  },
  {
   "cell_type": "code",
   "execution_count": null,
   "metadata": {},
   "outputs": [],
   "source": [
    "func(1, 2, 3, 4)"
   ]
  },
  {
   "cell_type": "markdown",
   "metadata": {},
   "source": [
    "### Декоратор"
   ]
  },
  {
   "cell_type": "code",
   "execution_count": null,
   "metadata": {},
   "outputs": [],
   "source": [
    "%%writefile \"C:\\Users\\MediaStation\\Desktop\\dump1.py\"\n",
    "def dump(func):\n",
    "    \"Print input arguments and output values(s)\"\n",
    "    def wrapper(*args, **kwargs):\n",
    "        print(\"Function name: %s\" % func, __name__)\n",
    "        print(\"input arguments: %s\" % ' '.join(map(str, args)))\n",
    "        print(\"input keyword arguments: %s\" % kwargs.items())\n",
    "        output = func(*args, **kwargs)\n",
    "        print(\"Output:\", output)\n",
    "        return output\n",
    "    return wrapper"
   ]
  },
  {
   "cell_type": "code",
   "execution_count": null,
   "metadata": {},
   "outputs": [],
   "source": [
    "%%writefile \"C:\\Users\\MediaStation\\Desktop\\test_dump.py\"\n",
    "from dump1 import dump\n",
    "@dump\n",
    "def double(*args, **kwargs):\n",
    "    \"Double evry argument\"\n",
    "    output_list = [2 * arg for arg in args]\n",
    "    output_dict = { k:2*v for k.v in kwargs.items()}\n",
    "    return output_list, output_dict\n",
    "if __name__ == '__main__':\n",
    "    output = double(3, 5, first=100, next=98.6, last=-40)"
   ]
  },
  {
   "cell_type": "code",
   "execution_count": null,
   "metadata": {},
   "outputs": [],
   "source": [
    "!python \"C:\\Users\\MediaStation\\Desktop\\test_dump.py\""
   ]
  },
  {
   "cell_type": "markdown",
   "metadata": {},
   "source": [
    "### Пользовательский стандартный отладчик pdb"
   ]
  },
  {
   "cell_type": "code",
   "execution_count": 3,
   "metadata": {},
   "outputs": [
    {
     "name": "stdout",
     "output_type": "stream",
     "text": [
      "Overwriting C:\\Users\\MediaStation\\Desktop\\capitals.py\n"
     ]
    }
   ],
   "source": [
    "%%writefile \"C:\\Users\\MediaStation\\Desktop\\capitals.py\"\n",
    "def process_cities(filename):\n",
    "    with open(filename, 'rt') as file:\n",
    "        for line in file:\n",
    "            line = line.strip()\n",
    "            if 'quit' in line.lower():\n",
    "                return\n",
    "            country, city = line.split(',')\n",
    "            city = city.strip()\n",
    "            country = country.strip()\n",
    "            print(city.title(), country.title(), sep=',')\n",
    "if __name__ == '__main__':\n",
    "    import sys\n",
    "    process_cities(sys.argv[1])"
   ]
  },
  {
   "cell_type": "code",
   "execution_count": 1,
   "metadata": {},
   "outputs": [
    {
     "name": "stdout",
     "output_type": "stream",
     "text": [
      "--Return--\n",
      "> <ipython-input-1-f5c610e4fe12>(2)<module>()->None\n",
      "-> pdb.set_trace()\n",
      "(Pdb) b 6\n",
      "*** Blank or comment\n",
      "(Pdb) b\n",
      "(Pdb) l\n",
      "  1  \timport pdb\n",
      "  2  ->\tpdb.set_trace()\n",
      "  3  \tget_ipython().system('python \"C:\\\\Users\\\\MediaStation\\\\Desktop\\\\capitals.py\" \"C:\\\\Users\\\\MediaStation\\\\Desktop\\\\cities2.csv\"')\n",
      "  4  \t# n - next step out\n",
      "  5  \t# s - step by step into\n",
      "  6  \t# l - list place in program\n",
      "  7  \t# c - continue program\n",
      "  8  \t# b str - breakpoint on line 'str'. Example (Pdb) b 6\n",
      "  9  \t# b - show all breakpoints\n",
      " 10  \t# p line - read last string from debugger\n",
      " 11  \t\n",
      "(Pdb) c\n"
     ]
    },
    {
     "name": "stderr",
     "output_type": "stream",
     "text": [
      "Traceback (most recent call last):\n",
      "  File \"C:\\Users\\MediaStation\\Desktop\\capitals.py\", line 13, in <module>\n",
      "    process_cities(sys.argv[1])\n",
      "  File \"C:\\Users\\MediaStation\\Desktop\\capitals.py\", line 7, in process_cities\n",
      "    country, city = line.split(',')\n",
      "ValueError: not enough values to unpack (expected 2, got 1)\n"
     ]
    }
   ],
   "source": [
    "import pdb\n",
    "pdb.set_trace()\n",
    "!python \"C:\\Users\\MediaStation\\Desktop\\capitals.py\" \"C:\\Users\\MediaStation\\Desktop\\cities2.csv\"\n",
    "# n - next step out\n",
    "# s - step by step into\n",
    "# l str - list place in program/or start str\n",
    "# c - continue program\n",
    "# b str - breakpoint on line 'str'. Example (Pdb) b 6\n",
    "# b - show all breakpoints\n",
    "# p line - read last string from debugger\n",
    "\n",
    "# o - toggle output line"
   ]
  },
  {
   "cell_type": "code",
   "execution_count": 5,
   "metadata": {
    "collapsed": true
   },
   "outputs": [
    {
     "name": "stdout",
     "output_type": "stream",
     "text": [
      "Collecting pixiedust\n",
      "  Downloading https://files.pythonhosted.org/packages/73/a2/f63c63195255679656ab4bcde912b8ca973a74690ccd4fb70a146351fbe6/pixiedust-1.1.14.tar.gz (197kB)\n",
      "Collecting mpld3 (from pixiedust)\n",
      "  Downloading https://files.pythonhosted.org/packages/91/95/a52d3a83d0a29ba0d6898f6727e9858fe7a43f6c2ce81a5fe7e05f0f4912/mpld3-0.3.tar.gz (788kB)\n",
      "Requirement already satisfied: lxml in c:\\users\\mediastation\\anaconda3\\lib\\site-packages (from pixiedust) (4.2.1)\n",
      "Collecting geojson (from pixiedust)\n",
      "  Downloading https://files.pythonhosted.org/packages/f1/34/bc3a65faabce27a7faa755ab08d811207a4fc438f77ef09c229fc022d778/geojson-2.4.1-py2.py3-none-any.whl\n",
      "Collecting astunparse (from pixiedust)\n",
      "  Downloading https://files.pythonhosted.org/packages/0d/9d/1576217f67e7420f5945c15c6afd7045178c4850b148741bdbdbdabbf40e/astunparse-1.6.1-py2.py3-none-any.whl\n",
      "Collecting markdown (from pixiedust)\n",
      "  Downloading https://files.pythonhosted.org/packages/7a/6b/5600647404ba15545ec37d2f7f58844d690baf2f81f3a60b862e48f29287/Markdown-3.0.1-py2.py3-none-any.whl (89kB)\n",
      "Collecting colour (from pixiedust)\n",
      "  Downloading https://files.pythonhosted.org/packages/74/46/e81907704ab203206769dee1385dc77e1407576ff8f50a0681d0a6b541be/colour-0.1.5-py2.py3-none-any.whl\n",
      "Requirement already satisfied: requests in c:\\users\\mediastation\\anaconda3\\lib\\site-packages (from pixiedust) (2.18.4)\n",
      "Requirement already satisfied: wheel<1.0,>=0.23.0 in c:\\users\\mediastation\\anaconda3\\lib\\site-packages (from astunparse->pixiedust) (0.31.1)\n",
      "Requirement already satisfied: six<2.0,>=1.6.1 in c:\\users\\mediastation\\anaconda3\\lib\\site-packages (from astunparse->pixiedust) (1.11.0)\n",
      "Requirement already satisfied: chardet<3.1.0,>=3.0.2 in c:\\users\\mediastation\\anaconda3\\lib\\site-packages (from requests->pixiedust) (3.0.4)\n",
      "Requirement already satisfied: idna<2.7,>=2.5 in c:\\users\\mediastation\\anaconda3\\lib\\site-packages (from requests->pixiedust) (2.6)\n",
      "Requirement already satisfied: urllib3<1.23,>=1.21.1 in c:\\users\\mediastation\\anaconda3\\lib\\site-packages (from requests->pixiedust) (1.22)\n",
      "Requirement already satisfied: certifi>=2017.4.17 in c:\\users\\mediastation\\anaconda3\\lib\\site-packages (from requests->pixiedust) (2018.4.16)\n",
      "Building wheels for collected packages: pixiedust, mpld3\n",
      "  Running setup.py bdist_wheel for pixiedust: started\n",
      "  Running setup.py bdist_wheel for pixiedust: finished with status 'done'\n",
      "  Stored in directory: C:\\Users\\MediaStation\\AppData\\Local\\pip\\Cache\\wheels\\6a\\5a\\24\\7a3981629308a339cab41a73813e9bf90e3b073acd34c9767b\n",
      "  Running setup.py bdist_wheel for mpld3: started\n",
      "  Running setup.py bdist_wheel for mpld3: finished with status 'done'\n",
      "  Stored in directory: C:\\Users\\MediaStation\\AppData\\Local\\pip\\Cache\\wheels\\c0\\47\\fb\\8a64f89aecfe0059830479308ad42d62e898a3e3cefdf6ba28\n",
      "Successfully built pixiedust mpld3\n",
      "Installing collected packages: mpld3, geojson, astunparse, markdown, colour, pixiedust\n",
      "Successfully installed astunparse-1.6.1 colour-0.1.5 geojson-2.4.1 markdown-3.0.1 mpld3-0.3 pixiedust-1.1.14\n"
     ]
    },
    {
     "name": "stderr",
     "output_type": "stream",
     "text": [
      "distributed 1.21.8 requires msgpack, which is not installed.\n",
      "You are using pip version 10.0.1, however version 18.1 is available.\n",
      "You should consider upgrading via the 'python -m pip install --upgrade pip' command.\n"
     ]
    }
   ],
   "source": [
    "!pip install pixiedust"
   ]
  },
  {
   "cell_type": "code",
   "execution_count": 3,
   "metadata": {},
   "outputs": [
    {
     "name": "stdout",
     "output_type": "stream",
     "text": [
      "Pixiedust database opened successfully\n"
     ]
    },
    {
     "data": {
      "text/html": [
       "\n",
       "        <div style=\"margin:10px\">\n",
       "            <a href=\"https://github.com/ibm-watson-data-lab/pixiedust\" target=\"_new\">\n",
       "                <img src=\"https://github.com/ibm-watson-data-lab/pixiedust/raw/master/docs/_static/pd_icon32.png\" style=\"float:left;margin-right:10px\"/>\n",
       "            </a>\n",
       "            <span>Pixiedust version 1.1.14</span>\n",
       "        </div>\n",
       "        "
      ],
      "text/plain": [
       "<IPython.core.display.HTML object>"
      ]
     },
     "metadata": {},
     "output_type": "display_data"
    }
   ],
   "source": [
    "import pixiedust"
   ]
  },
  {
   "cell_type": "code",
   "execution_count": null,
   "metadata": {
    "pixiedust": {
     "displayParams": {}
    },
    "scrolled": true
   },
   "outputs": [
    {
     "data": {
      "text/html": [
       "<style type=\"text/css\">.pd_warning{display:none;}</style><div class=\"pd_warning\"><em>Hey, there's something awesome here! To see it, open this notebook outside GitHub, in a viewer like Jupyter</em></div>"
      ],
      "text/plain": [
       "<IPython.core.display.HTML object>"
      ]
     },
     "metadata": {
      "pixieapp_metadata": null
     },
     "output_type": "display_data"
    }
   ],
   "source": [
    "%%pixie_debugger\n",
    "!python \"C:\\Users\\MediaStation\\Desktop\\cap.py\""
   ]
  },
  {
   "cell_type": "markdown",
   "metadata": {},
   "source": [
    "## Write formula example\n",
    "$sync$\n",
    "\n",
    "$$\n",
    "f(x) = \\frac{sin(x)}{x}\n",
    "$$"
   ]
  },
  {
   "cell_type": "markdown",
   "metadata": {},
   "source": [
    "## Логирование"
   ]
  },
  {
   "cell_type": "code",
   "execution_count": 2,
   "metadata": {},
   "outputs": [],
   "source": [
    "import logging"
   ]
  },
  {
   "cell_type": "code",
   "execution_count": 5,
   "metadata": {},
   "outputs": [],
   "source": [
    "fmt = '%(asctime)s %(levelname)s %(lineno)s %(message)s'\n",
    "logging.basicConfig(level='DEBUG', format=fmt, filename='og_test.log')\n",
    "logger = logging.getLogger('TestUser')\n",
    "logger.error(\"Where's my other plaid shirt?\")\n",
    "logger.debug(\"It's debug message. Default level is WARNING to display\")\n",
    "logger.warning(\"Warning level\")\n",
    "logger.critical(\"Critical log\")"
   ]
  },
  {
   "cell_type": "markdown",
   "metadata": {},
   "source": [
    "## Тайминг"
   ]
  },
  {
   "cell_type": "code",
   "execution_count": 14,
   "metadata": {},
   "outputs": [
    {
     "name": "stdout",
     "output_type": "stream",
     "text": [
      "[6.62168339715663e-07, 3.3108416630511783e-07, 3.3108416630511783e-07]\n"
     ]
    }
   ],
   "source": [
    "from timeit import repeat\n",
    "print(repeat('num = 5; num *= 2', number=1, repeat=3))"
   ]
  },
  {
   "cell_type": "code",
   "execution_count": 15,
   "metadata": {},
   "outputs": [
    {
     "name": "stdout",
     "output_type": "stream",
     "text": [
      "make_list_1 takes  0.11031691376570052 seconds\n",
      "make_list_2 takes  0.057771869764565054 seconds\n"
     ]
    }
   ],
   "source": [
    "from timeit import timeit\n",
    "def make_list_1():\n",
    "    result = []\n",
    "    for value in range(1000):\n",
    "        result.append(value)\n",
    "    return result\n",
    "def make_list_2():\n",
    "    result = [value for value in range(1000)]\n",
    "    return result\n",
    "print('make_list_1 takes ', timeit(make_list_1, number=1000), 'seconds')\n",
    "print('make_list_2 takes ', timeit(make_list_2, number=1000), 'seconds')"
   ]
  },
  {
   "cell_type": "code",
   "execution_count": null,
   "metadata": {},
   "outputs": [],
   "source": []
  }
 ],
 "metadata": {
  "kernelspec": {
   "display_name": "Python 3",
   "language": "python",
   "name": "python3"
  },
  "language_info": {
   "codemirror_mode": {
    "name": "ipython",
    "version": 3
   },
   "file_extension": ".py",
   "mimetype": "text/x-python",
   "name": "python",
   "nbconvert_exporter": "python",
   "pygments_lexer": "ipython3",
   "version": "3.6.5"
  }
 },
 "nbformat": 4,
 "nbformat_minor": 2
}
